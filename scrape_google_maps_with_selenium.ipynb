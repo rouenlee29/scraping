{
 "cells": [
  {
   "cell_type": "code",
   "execution_count": null,
   "metadata": {},
   "outputs": [],
   "source": [
    "import pandas as pd\n",
    "import os\n",
    "from selenium import webdriver\n",
    "import time"
   ]
  },
  {
   "cell_type": "code",
   "execution_count": null,
   "metadata": {},
   "outputs": [],
   "source": [
    "# ensure version of chromedriver matches with chrome version\n",
    "# location of chromedriver.exe\n",
    "f = open(\"chrome_driver_location.txt\")\n",
    "driver_path = f.read()"
   ]
  },
  {
   "cell_type": "code",
   "execution_count": null,
   "metadata": {},
   "outputs": [],
   "source": [
    "options = webdriver.ChromeOptions()\n",
    "options.add_argument(\"--incognito\")"
   ]
  },
  {
   "cell_type": "code",
   "execution_count": null,
   "metadata": {},
   "outputs": [],
   "source": [
    "# go to website \n",
    "driver = webdriver.Chrome(driver_path,options=options)"
   ]
  },
  {
   "cell_type": "code",
   "execution_count": null,
   "metadata": {},
   "outputs": [],
   "source": [
    "link = # the first page of google maps search result\n",
    "driver.get(link)"
   ]
  },
  {
   "cell_type": "code",
   "execution_count": null,
   "metadata": {},
   "outputs": [],
   "source": [
    "# scrape location names and addresses\n",
    "names, addresses = [],[]\n",
    "\n",
    "def try_until_succeed(element_num):\n",
    "    # try clicking on element name until successful\n",
    "    # https://stackoverflow.com/questions/18225997/stale-element-reference-element-is-not-attached-to-the-page-document\n",
    "    \n",
    "    status = \"fail\"\n",
    "    num_tries = 0\n",
    "    while (status == \"fail\") and (num_tries<=5):\n",
    "        try:\n",
    "            num_tries += 1\n",
    "            \n",
    "            s = driver.find_element_by_xpath(f\"//div[@data-result-index='{element_num}']/div/div/div/div/h3\")\n",
    "            s.click()\n",
    "            status = \"success\"\n",
    "        except:\n",
    "            status = \"fail\"\n",
    "            \n",
    "\n",
    "end = False\n",
    "page = 1\n",
    "while end is False:\n",
    "    print(f\"At page {page}\")\n",
    "    \n",
    "    # determine how many elements in one page \n",
    "    all_sections = driver.find_elements_by_xpath(\"//h3[@class='section-result-title']\")\n",
    "    n = len(all_sections)\n",
    "\n",
    "    for element_num in range(1,n+1):\n",
    "        \n",
    "        # get element name\n",
    "        name =  driver.find_element_by_xpath(f\"//div[@data-result-index='{str(element_num)}']/div/div/div/div/h3\").text\n",
    "        names.append(name)\n",
    "        \n",
    "        # click on element to go to element's page \n",
    "        try_until_succeed(element_num)\n",
    "        time.sleep(5) # wait for element's page to load\n",
    "        \n",
    "        # once element's page is already loaded....\n",
    "        try:\n",
    "            address = driver.find_element_by_xpath(\"//div[@data-section-id='ad']\").text\n",
    "        except:\n",
    "            address = None\n",
    "        addresses.append(address)\n",
    "        time.sleep(3)\n",
    "        \n",
    "        # go back to search page\n",
    "        back=driver.find_element_by_xpath(\"//div[@class='section-layout section-layout-root']/button\")\n",
    "        back.click()\n",
    "        time.sleep(5)\n",
    "        \n",
    "    # when we have finished scraping all results in one search page\n",
    "    try:\n",
    "        # go to next page \n",
    "        next_page = driver.find_element_by_xpath(\"//div[@class='gm2-caption']/div/div/button[@aria-label=' Next page ']\")\n",
    "        next_page.click()\n",
    "    except: # no more next page button \n",
    "        end = True\n",
    "    page += 1\n"
   ]
  },
  {
   "cell_type": "code",
   "execution_count": null,
   "metadata": {},
   "outputs": [],
   "source": [
    "df = pd.DataFrame({\"name\": names, \"address\": addresses})"
   ]
  }
 ],
 "metadata": {
  "kernelspec": {
   "display_name": "Python 3",
   "language": "python",
   "name": "python3"
  },
  "language_info": {
   "codemirror_mode": {
    "name": "ipython",
    "version": 3
   },
   "file_extension": ".py",
   "mimetype": "text/x-python",
   "name": "python",
   "nbconvert_exporter": "python",
   "pygments_lexer": "ipython3",
   "version": "3.7.3"
  },
  "toc": {
   "base_numbering": 1,
   "nav_menu": {},
   "number_sections": true,
   "sideBar": true,
   "skip_h1_title": false,
   "title_cell": "Table of Contents",
   "title_sidebar": "Contents",
   "toc_cell": false,
   "toc_position": {},
   "toc_section_display": true,
   "toc_window_display": false
  },
  "varInspector": {
   "cols": {
    "lenName": 16,
    "lenType": 16,
    "lenVar": 40
   },
   "kernels_config": {
    "python": {
     "delete_cmd_postfix": "",
     "delete_cmd_prefix": "del ",
     "library": "var_list.py",
     "varRefreshCmd": "print(var_dic_list())"
    },
    "r": {
     "delete_cmd_postfix": ") ",
     "delete_cmd_prefix": "rm(",
     "library": "var_list.r",
     "varRefreshCmd": "cat(var_dic_list()) "
    }
   },
   "types_to_exclude": [
    "module",
    "function",
    "builtin_function_or_method",
    "instance",
    "_Feature"
   ],
   "window_display": false
  }
 },
 "nbformat": 4,
 "nbformat_minor": 2
}
